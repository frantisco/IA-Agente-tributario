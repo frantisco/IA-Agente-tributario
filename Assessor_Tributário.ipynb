{
  "nbformat": 4,
  "nbformat_minor": 0,
  "metadata": {
    "colab": {
      "provenance": [],
      "authorship_tag": "ABX9TyN1r6bKhN0VMfxTAnDJEESS",
      "include_colab_link": true
    },
    "kernelspec": {
      "name": "python3",
      "display_name": "Python 3"
    },
    "language_info": {
      "name": "python"
    }
  },
  "cells": [
    {
      "cell_type": "markdown",
      "metadata": {
        "id": "view-in-github",
        "colab_type": "text"
      },
      "source": [
        "<a href=\"https://colab.research.google.com/github/frantisco/IA-Agente-tributario/blob/main/Assessor_Tribut%C3%A1rio.ipynb\" target=\"_parent\"><img src=\"https://colab.research.google.com/assets/colab-badge.svg\" alt=\"Open In Colab\"/></a>"
      ]
    },
    {
      "cell_type": "code",
      "execution_count": 6,
      "metadata": {
        "id": "gPzCI4cdznbW"
      },
      "outputs": [],
      "source": [
        "%pip -q install google-genai"
      ]
    },
    {
      "cell_type": "code",
      "source": [
        "import os\n",
        "from google.colab import userdata\n",
        "\n",
        "os.environ[\"GOOGLE_API_KEY\"] = userdata.get('GOOGLE_API_KEY')"
      ],
      "metadata": {
        "id": "067F41e0NXC4"
      },
      "execution_count": 7,
      "outputs": []
    },
    {
      "cell_type": "code",
      "source": [
        "from google import genai\n",
        "\n",
        "client = genai.Client()\n",
        "\n",
        "MODEL_ID = \"gemini-2.0-flash\""
      ],
      "metadata": {
        "id": "gXLTfHcoNuo1"
      },
      "execution_count": 8,
      "outputs": []
    },
    {
      "cell_type": "code",
      "source": [
        "!pip install -q google-adk"
      ],
      "metadata": {
        "colab": {
          "base_uri": "https://localhost:8080/"
        },
        "id": "M_pA4ue3Nubh",
        "outputId": "b4ef29ac-1b05-4eb1-ee76-30c7bb7ca91d"
      },
      "execution_count": 9,
      "outputs": [
        {
          "output_type": "stream",
          "name": "stdout",
          "text": [
            "\u001b[?25l   \u001b[90m━━━━━━━━━━━━━━━━━━━━━━━━━━━━━━━━━━━━━━━━\u001b[0m \u001b[32m0.0/1.2 MB\u001b[0m \u001b[31m?\u001b[0m eta \u001b[36m-:--:--\u001b[0m\r\u001b[2K   \u001b[91m━━━━━━━━━━━━━━━\u001b[0m\u001b[91m╸\u001b[0m\u001b[90m━━━━━━━━━━━━━━━━━━━━━━━━\u001b[0m \u001b[32m0.5/1.2 MB\u001b[0m \u001b[31m14.5 MB/s\u001b[0m eta \u001b[36m0:00:01\u001b[0m\r\u001b[2K   \u001b[91m━━━━━━━━━━━━━━━━━━━━━━━━━━━━━━━━━━━━━━━\u001b[0m\u001b[91m╸\u001b[0m \u001b[32m1.2/1.2 MB\u001b[0m \u001b[31m20.8 MB/s\u001b[0m eta \u001b[36m0:00:01\u001b[0m\r\u001b[2K   \u001b[90m━━━━━━━━━━━━━━━━━━━━━━━━━━━━━━━━━━━━━━━━\u001b[0m \u001b[32m1.2/1.2 MB\u001b[0m \u001b[31m15.6 MB/s\u001b[0m eta \u001b[36m0:00:00\u001b[0m\n",
            "\u001b[2K   \u001b[90m━━━━━━━━━━━━━━━━━━━━━━━━━━━━━━━━━━━━━━━━\u001b[0m \u001b[32m232.1/232.1 kB\u001b[0m \u001b[31m11.4 MB/s\u001b[0m eta \u001b[36m0:00:00\u001b[0m\n",
            "\u001b[2K   \u001b[90m━━━━━━━━━━━━━━━━━━━━━━━━━━━━━━━━━━━━━━━━\u001b[0m \u001b[32m95.2/95.2 kB\u001b[0m \u001b[31m5.9 MB/s\u001b[0m eta \u001b[36m0:00:00\u001b[0m\n",
            "\u001b[2K   \u001b[90m━━━━━━━━━━━━━━━━━━━━━━━━━━━━━━━━━━━━━━━━\u001b[0m \u001b[32m217.1/217.1 kB\u001b[0m \u001b[31m14.0 MB/s\u001b[0m eta \u001b[36m0:00:00\u001b[0m\n",
            "\u001b[2K   \u001b[90m━━━━━━━━━━━━━━━━━━━━━━━━━━━━━━━━━━━━━━━━\u001b[0m \u001b[32m334.1/334.1 kB\u001b[0m \u001b[31m17.5 MB/s\u001b[0m eta \u001b[36m0:00:00\u001b[0m\n",
            "\u001b[2K   \u001b[90m━━━━━━━━━━━━━━━━━━━━━━━━━━━━━━━━━━━━━━━━\u001b[0m \u001b[32m125.1/125.1 kB\u001b[0m \u001b[31m7.6 MB/s\u001b[0m eta \u001b[36m0:00:00\u001b[0m\n",
            "\u001b[2K   \u001b[90m━━━━━━━━━━━━━━━━━━━━━━━━━━━━━━━━━━━━━━━━\u001b[0m \u001b[32m65.8/65.8 kB\u001b[0m \u001b[31m4.3 MB/s\u001b[0m eta \u001b[36m0:00:00\u001b[0m\n",
            "\u001b[2K   \u001b[90m━━━━━━━━━━━━━━━━━━━━━━━━━━━━━━━━━━━━━━━━\u001b[0m \u001b[32m119.0/119.0 kB\u001b[0m \u001b[31m7.8 MB/s\u001b[0m eta \u001b[36m0:00:00\u001b[0m\n",
            "\u001b[2K   \u001b[90m━━━━━━━━━━━━━━━━━━━━━━━━━━━━━━━━━━━━━━━━\u001b[0m \u001b[32m194.9/194.9 kB\u001b[0m \u001b[31m11.5 MB/s\u001b[0m eta \u001b[36m0:00:00\u001b[0m\n",
            "\u001b[2K   \u001b[90m━━━━━━━━━━━━━━━━━━━━━━━━━━━━━━━━━━━━━━━━\u001b[0m \u001b[32m62.5/62.5 kB\u001b[0m \u001b[31m4.1 MB/s\u001b[0m eta \u001b[36m0:00:00\u001b[0m\n",
            "\u001b[2K   \u001b[90m━━━━━━━━━━━━━━━━━━━━━━━━━━━━━━━━━━━━━━━━\u001b[0m \u001b[32m103.3/103.3 kB\u001b[0m \u001b[31m6.6 MB/s\u001b[0m eta \u001b[36m0:00:00\u001b[0m\n",
            "\u001b[2K   \u001b[90m━━━━━━━━━━━━━━━━━━━━━━━━━━━━━━━━━━━━━━━━\u001b[0m \u001b[32m44.4/44.4 kB\u001b[0m \u001b[31m2.4 MB/s\u001b[0m eta \u001b[36m0:00:00\u001b[0m\n",
            "\u001b[2K   \u001b[90m━━━━━━━━━━━━━━━━━━━━━━━━━━━━━━━━━━━━━━━━\u001b[0m \u001b[32m72.0/72.0 kB\u001b[0m \u001b[31m4.7 MB/s\u001b[0m eta \u001b[36m0:00:00\u001b[0m\n",
            "\u001b[?25h"
          ]
        }
      ]
    },
    {
      "cell_type": "code",
      "source": [
        "from google.adk.agents import Agent\n",
        "from google.adk.runners import Runner\n",
        "from google.adk.sessions import InMemorySessionService\n",
        "from google.adk.tools import google_search\n",
        "from google.genai import types  # Para criar conteúdos (Content e Part)\n",
        "from datetime import date\n",
        "import textwrap # Para formatar melhor a saída de texto\n",
        "from IPython.display import display, Markdown # Para exibir texto formatado no Colab\n",
        "import requests # Para fazer requisições HTTP\n",
        "import warnings\n",
        "\n",
        "warnings.filterwarnings(\"ignore\")"
      ],
      "metadata": {
        "id": "q4Xw-pSlOniJ"
      },
      "execution_count": 10,
      "outputs": []
    },
    {
      "cell_type": "code",
      "source": [
        "# Função auxiliar que envia uma mensagem para um agente via Runner e retorna a resposta final\n",
        "def call_agent(agent: Agent, message_text: str) -> str:\n",
        "    # Cria um serviço de sessão em memória\n",
        "    session_service = InMemorySessionService()\n",
        "    # Cria uma nova sessão (você pode personalizar os IDs conforme necessário)\n",
        "    session = session_service.create_session(app_name=agent.name, user_id=\"user1\", session_id=\"session1\")\n",
        "    # Cria um Runner para o agente\n",
        "    runner = Runner(agent=agent, app_name=agent.name, session_service=session_service)\n",
        "    # Cria o conteúdo da mensagem de entrada\n",
        "    content = types.Content(role=\"user\", parts=[types.Part(text=message_text)])\n",
        "\n",
        "    final_response = \"\"\n",
        "    # Itera assincronamente pelos eventos retornados durante a execução do agente\n",
        "    for event in runner.run(user_id=\"user1\", session_id=\"session1\", new_message=content):\n",
        "        if event.is_final_response():\n",
        "          for part in event.content.parts:\n",
        "            if part.text is not None:\n",
        "              final_response += part.text\n",
        "              final_response += \"\\n\"\n",
        "    return final_response"
      ],
      "metadata": {
        "id": "jc75wOHQP2nH"
      },
      "execution_count": 11,
      "outputs": []
    },
    {
      "cell_type": "code",
      "source": [
        "def to_markdown(text):\n",
        "  text = text.replace('•', '  *')\n",
        "  return Markdown(textwrap.indent(text, '> ', predicate=lambda _: True))"
      ],
      "metadata": {
        "id": "5IOoFEHdQLN9"
      },
      "execution_count": 12,
      "outputs": []
    },
    {
      "cell_type": "code",
      "source": [
        "##########################################\n",
        "# --- Agente 1: Buscador Juridico --- #\n",
        "##########################################\n",
        "def agente_buscador(topico, data_de_hoje):\n",
        "\n",
        "    buscador = Agent(\n",
        "        name=\"agente_buscador\",\n",
        "        model=\"gemini-2.0-flash\",\n",
        "        instruction=\"\"\"\n",
        "        Você é um consultor jurídico.especializado em direito tributário.\n",
        "        A sua tarefa é usar a ferramenta de busca do google (google_search) para manter seu conhecimento jurídico atuliazado,\n",
        "        busque alterações no código tributário nacional, lei complementares e decretos.\n",
        "        Busque notícias sobre a reforma tributária e como essa reforma impactará o sistema tributário brasileiro.\n",
        "        Foque suas buscas nas mudanças legais mais impactantes dos ultimos 3 anos para quem está dentro do regime tributário do Simples Nacional.\n",
        "        \"\"\",\n",
        "        description=\"Agente que busca informações jurídicas no Google\",\n",
        "        tools=[google_search]\n",
        "    )\n",
        "\n",
        "    entrada_do_agente_buscador = f\"Tópico: {topico}\\nData de hoje: {data_de_hoje}\"\n",
        "\n",
        "    lancamentos = call_agent(buscador, entrada_do_agente_buscador)\n",
        "    return lancamentos"
      ],
      "metadata": {
        "id": "gLHrsuy3Qmje"
      },
      "execution_count": 13,
      "outputs": []
    },
    {
      "cell_type": "code",
      "source": [
        "#########################################################################\n",
        "# --- Agente 2: Consultor Juridico Municipal - Monte Santo de Minas --- #\n",
        "#########################################################################\n",
        "def agente_consultor(topico, lancamentos_buscados):\n",
        "    consultor = Agent(\n",
        "        name=\"agente_consultor\",\n",
        "        model=\"gemini-2.0-flash\",\n",
        "        # Inserir as instruções do Agente Consultor #################################################\n",
        "        instruction=\"\"\"\n",
        "        Você é um consultor jurídico especialista em direito tributário municipal na cidade de Monte Santo de Minas-MG.\n",
        "        Com base nas informações de relevantes buscador, você deve:\n",
        "        usar a ferramenta de busca do Google (google_search) para manter seu conhecimento jurídico municipal atualizado,\n",
        "        focando no código tributário municipal, código de postura e leis ordinárias.\n",
        "        Com as informações necessárias coletadas você deve criar:\n",
        "        Um plano para auxiliar o fiscal tributário municipal a monitorar empersas de Monte Santo de Minas no regime do simples nacional.\n",
        "        Auxlie na fiscalização e criação de malhas finas usando como base no cruzamento de dados das notas fiscais eletronicas emitidas\n",
        "        pelos contribuinte, com as informação coletadas pelo PGDAS e DASN SIMEI para os MEIs.\n",
        "        Selecione os principais pontos de atenção para alertar os contribuintes, escritórios de contabilidade e contadores\n",
        "        sobre as futuras ações fiscais que o fisco municipal dará início e faça um plano de post.\n",
        "\n",
        "        \"\"\",\n",
        "        description=\"Agente especializado em direito tributário municipal de Monte Santo de Minas\",\n",
        "        tools=[google_search]\n",
        "    )\n",
        "\n",
        "    entrada_do_agente_consultor = f\"Tópico:{topico}\\nLançamentos buscados: {lancamentos_buscados}\"\n",
        "    # Executa o agente\n",
        "    plano_do_post = call_agent(consultor, entrada_do_agente_consultor)\n",
        "    return plano_do_post"
      ],
      "metadata": {
        "id": "fC4h67y3Vfn7"
      },
      "execution_count": 18,
      "outputs": []
    },
    {
      "cell_type": "code",
      "source": [
        "############################################################################\n",
        "# --- Agente 3: Redator do Post- Cmapanha Educativa para Autoregulação--- #\n",
        "############################################################################\n",
        "def agente_redator(topico, plano_de_post):\n",
        "    redator = Agent(\n",
        "        name=\"agente_redator\",\n",
        "        model=\"gemini-2.0-flash\",\n",
        "        instruction=\"\"\"\n",
        "            Você é um Redator Criativo especializado em criar posts virais para redes sociais.\n",
        "            Você escreve posts para a Prefeitura Municipal de MOnte Santo de Minas, sertor de arrecadação de tributos municipais.\n",
        "            Utilize os pontos de ateção e alertas fornecidos no plano de post e os pontos mais relevantes fornecidos e, com base nisso,\n",
        "            escreva um rascunho de post para o Instagram sobre o tema indicado.\n",
        "            O post deve ser linguagem clara e acessível, evitando jargões técnicos e expressões complexas, para garantir que a informação seja compreendida por todos\n",
        "            e incluir 2 a 4 hashtags no final.\n",
        "            \"\"\",\n",
        "        description=\"Agente redator de posts imformativos para Instagram\"\n",
        "    )\n",
        "    entrada_do_agente_redator = f\"Tópico: {topico}\\nPlano de post: {plano_de_post}\"\n",
        "    # Executa o agente\n",
        "    rascunho = call_agent(redator, entrada_do_agente_redator)\n",
        "    return rascunho"
      ],
      "metadata": {
        "id": "wO3voxTkhJme"
      },
      "execution_count": 19,
      "outputs": []
    },
    {
      "cell_type": "code",
      "source": [
        "##########################################\n",
        "# --- Agente 4: Revisor de Qualidade --- #\n",
        "##########################################\n",
        "def agente_revisor(topico, rascunho_gerado):\n",
        "    revisor = Agent(\n",
        "        name=\"agente_revisor\",\n",
        "        model=\"gemini-2.0-flash\",\n",
        "        instruction=\"\"\"\n",
        "            Você é um Editor e Revisor de Conteúdo meticuloso, especializado em posts para redes sociais, com foco no Instagram.\n",
        "            O publico alvo são contribuintes na cidade de Monte Santo de Minas: empresários (ME e  EPP), MEIs (micro empreendedor invidual),\n",
        "            escritórios de contabilidade e contadores.\n",
        "            Revise o rascunho de post de Instagram abaixo sobre o tópico indicado, verificando clareza, concisão, correção e tom.\n",
        "            Se o rascunho estiver bom, responda apenas 'O rascunho está ótimo e pronto para publicar!'.\n",
        "            Caso haja problemas, aponte-os e sugira melhorias.\n",
        "            \"\"\",\n",
        "        description=\"Agente revisor de post para redes sociais.\"\n",
        "    )\n",
        "    entrada_do_agente_revisor = f\"Tópico: {topico}\\nRascunho: {rascunho_gerado}\"\n",
        "    # Executa o agente\n",
        "    texto_revisado = call_agent(revisor, entrada_do_agente_revisor)\n",
        "    return texto_revisado"
      ],
      "metadata": {
        "id": "NDF_nfCttJ1r"
      },
      "execution_count": 20,
      "outputs": []
    },
    {
      "cell_type": "code",
      "source": [
        "data_de_hoje = date.today().strftime(\"%d/%m/%Y\")\n",
        "\n",
        "print(\"🚀 Iniciando o Sistema de Criação de Posts Informativo para Instagram com 4 Agentes 🚀\")\n",
        "\n",
        "# --- Obter o Tópico do Usuário ---\n",
        "topico = input(\"❓ Por favor, digite o TÓPICO sobre o qual você quer criar o post de tendências: \")\n",
        "\n",
        "# Inserir lógica do sistema de agentes ################################################\n",
        "if not topico:\n",
        "    print(\"Você esqueceu de digitar o tópico!\")\n",
        "else:\n",
        "    print(f\"Maravilha! Vamos então criar o post sobre temas solicitados {topico}\")\n",
        "\n",
        "    lancamentos_buscados = agente_buscador(topico, data_de_hoje)\n",
        "    print(\"\\n--- 📝 Resultado do Agente 1 (Buscador) ---\\n\")\n",
        "    display(to_markdown(lancamentos_buscados))\n",
        "    print(\"--------------------------------------------------------------\")\n",
        "\n",
        "    plano_de_post = agente_consultor(topico, lancamentos_buscados)\n",
        "    print(\"\\n--- 📝 Resultado do Agente 2 (Consultor) ---\\n\")\n",
        "    display(to_markdown(plano_de_post))\n",
        "    print(\"--------------------------------------------------------------\")\n",
        "\n",
        "    rascunho_de_post = agente_redator(topico, plano_de_post)\n",
        "    print(\"\\n--- 📝 Resultado do Agente 3 (Redator) ---\\n\")\n",
        "    display(to_markdown(rascunho_de_post))\n",
        "    print(\"--------------------------------------------------------------\")\n",
        "\n",
        "    post_final = agente_revisor(topico, rascunho_de_post)\n",
        "    print(\"\\n--- 📝 Resultado do Agente 4 (Revisor) ---\\n\")\n",
        "    display(to_markdown(post_final))\n",
        "    print(\"--------------------------------------------------------------\")"
      ],
      "metadata": {
        "colab": {
          "base_uri": "https://localhost:8080/",
          "height": 1000
        },
        "id": "fT8HXl_huKb5",
        "outputId": "7a0bef1a-acda-4fe4-ea87-ea29fdd585b4"
      },
      "execution_count": 21,
      "outputs": [
        {
          "output_type": "stream",
          "name": "stdout",
          "text": [
            "🚀 Iniciando o Sistema de Criação de Posts Informativo para Instagram com 4 Agentes 🚀\n",
            "❓ Por favor, digite o TÓPICO sobre o qual você quer criar o post de tendências: Limites de faturamento simples nacional\n",
            "Maravilha! Vamos então criar o post sobre temas solicitados Limites de faturamento simples nacional\n",
            "\n",
            "--- 📝 Resultado do Agente 1 (Buscador) ---\n",
            "\n"
          ]
        },
        {
          "output_type": "display_data",
          "data": {
            "text/plain": [
              "<IPython.core.display.Markdown object>"
            ],
            "text/markdown": "> Olá! Para te manter atualizado sobre os limites de faturamento do Simples Nacional e as mudanças mais recentes que podem impactar sua empresa nos últimos 3 anos, preparei um resumo com base nas informações mais recentes sobre a legislação e a reforma tributária.\n> \n> \n> Com prazer, aqui está um resumo das informações mais relevantes sobre os limites de faturamento do Simples Nacional e as mudanças recentes que podem afetar sua empresa:\n> \n> **Limites de Faturamento Atuais (2025)**\n> \n> *   **Limite Anual:** O limite de faturamento anual para permanecer no Simples Nacional é de R$ 4,8 milhões.\n> *   **MEI:** Para o Microempreendedor Individual (MEI), o limite de faturamento anual é de R$ 81 mil.\n> *   **Sublimite Estadual:** Para o recolhimento de ICMS e ISS, alguns estados adotam um sublimite de R$ 3,6 milhões. Ultrapassar este sublimite pode exigir que o ICMS e o ISS sejam recolhidos fora do Simples Nacional, seguindo as regras do regime normal.\n> \n> **Mudanças Propostas e Reforma Tributária**\n> \n> *   **Propostas de Aumento:** Há discussões sobre o aumento do limite de faturamento anual para R$ 5 milhões. Existem projetos de lei em tramitação que propõem aumentar os limites para MEI (R$ 144.913,41), ME (R$ 869.480,43) e EPP (R$ 8.694.804,31).\n> *   **Reforma Tributária e o Simples Nacional:** A reforma tributária de 2023 (Emenda Constitucional 132/2023), regulamentada pela Lei Complementar nº 214/2024, manteve o Simples Nacional, mas introduzirá mudanças relevantes.\n> *   **Novos Impostos (IBS e CBS):** A reforma substituirá o ICMS, ISS, IPI, PIS e COFINS por dois novos impostos: o Imposto sobre Bens e Serviços (IBS) e a Contribuição sobre Bens e Serviços (CBS).\n> *   **Simples Nacional Híbrido:** Empresas do Simples Nacional poderão optar por recolher o IBS e a CBS separadamente, no chamado \"Simples Nacional Híbrido\". Isso permitirá a apropriação de créditos de impostos, mas pode aumentar a carga tributária.\n> *   **Conceito de Receita Bruta:** A definição de Receita Bruta foi ampliada para incluir \"demais receitas da atividade ou objeto principal\" da empresa.\n> *   **Transição:** A transição para o novo sistema tributário ocorrerá gradualmente entre 2026 e 2033.\n> \n> **Impactos e Como se Preparar**\n> \n> *   **Efeitos Indiretos:** A implementação do novo sistema tributário trará efeitos indiretos que impactam a forma de apuração e a competitividade dos negócios.\n> *   **Planejamento Tributário:** É recomendável que as empresas do Simples Nacional comecem a mapear seus processos, entender seus clientes e revisar suas estratégias fiscais para decidir se vale a pena continuar no mesmo regime tributário.\n> *   **Regularização Fiscal:** A Receita Federal está intensificando a fiscalização e o processamento de dados. Empresas com pendências fiscais devem regularizar sua situação para evitar a exclusão do Simples Nacional.\n> *   **Domicílio Tributário Eletrônico (DT-e):** O DT-e facilitará a comunicação entre a Receita Federal e as empresas, agilizando o processo de envio de notificações sobre irregularidades.\n> \n> **Recomendações**\n> \n> 1.  **Mantenha-se Informado:** Acompanhe as atualizações da legislação tributária e as regulamentações da reforma tributária para garantir que sua empresa esteja em conformidade.\n> 2.  **Regularize Pendências:** Verifique e regularize quaisquer pendências fiscais para evitar a exclusão do Simples Nacional.\n> 3.  **Planeje-se:** Elabore um planejamento tributário detalhado, considerando os impactos da reforma e as opções de tributação disponíveis.\n> 4.  **Consulte um Especialista:** Busque o auxílio de um contador ou consultor tributário para avaliar a situação específica da sua empresa e tomar as melhores decisões.\n> \n> Espero que estas informações sejam úteis para você!\n"
          },
          "metadata": {}
        },
        {
          "output_type": "stream",
          "name": "stdout",
          "text": [
            "--------------------------------------------------------------\n",
            "\n",
            "--- 📝 Resultado do Agente 2 (Consultor) ---\n",
            "\n"
          ]
        },
        {
          "output_type": "display_data",
          "data": {
            "text/plain": [
              "<IPython.core.display.Markdown object>"
            ],
            "text/markdown": "> Com certeza! Para auxiliar o fiscal tributário municipal de Monte Santo de Minas-MG a monitorar empresas no Simples Nacional, e com base nas informações sobre os limites de faturamento e mudanças recentes, preparei um plano detalhado.\n> \n> \n> ### Plano Detalhado para Monitoramento de Empresas no Simples Nacional em Monte Santo de Minas-MG\n> \n> Este plano visa auxiliar o fiscal tributário municipal a monitorar empresas optantes pelo Simples Nacional em Monte Santo de Minas, otimizando a fiscalização e garantindo a conformidade tributária.\n> \n> #### 1. **Atualização Jurídica Municipal**\n> \n> *   **Código Tributário Municipal:** Analisar o Código Tributário Municipal de Monte Santo de Minas (ex: Lei Municipal nº 927/89 e suas alterações) para identificar as competências e responsabilidades do município na fiscalização do Simples Nacional.\n> *   **Código de Posturas:** Verificar o Código de Posturas (ex: Lei nº 18/1949) para identificar possíveis atividades sujeitas à fiscalização municipal e cruzamento de dados com as atividades declaradas no Simples Nacional.\n> *   **Leis Ordinárias:** Acompanhar as leis ordinárias municipais que possam ter impacto na tributação e fiscalização de empresas do Simples Nacional.\n> *   **Lei Orgânica Municipal:** Consultar a Lei Orgânica do Município para entender as competências tributárias do município e as normas sobre a administração tributária.\n> \n> #### 2. **Cruzamento de Dados e Malha Fina**\n> \n> *   **Notas Fiscais Eletrônicas (NF-e):**\n>     *   **Monitoramento:** Coletar e analisar dados das NF-e emitidas pelas empresas do Simples Nacional no município.\n>     *   **Cruzamento de Informações:** Comparar os valores declarados nas NF-e com as informações prestadas no Programa Gerador do Documento de Arrecadação do Simples Nacional (PGDAS) e na Declaração Anual Simplificada para o Microempreendedor Individual (DASN-SIMEI) para os MEIs.\n>     *   **Identificação de Inconsistências:** Identificar divergências que possam indicar omissão de receitas ou outras irregularidades.\n> *   **PGDAS e DASN-SIMEI:**\n>     *   **Análise Detalhada:** Examinar as declarações do PGDAS e DASN-SIMEI para verificar a receita bruta declarada, os impostos recolhidos e as atividades econômicas informadas.\n>     *   **Comparativo Setorial:** Comparar o desempenho das empresas com outras do mesmo setor para identificar possíveis desvios de padrão que justifiquem uma análise mais aprofundada.\n> *   **Outros Dados:**\n>     *   **Declarações Bancárias:** Em casos de suspeita de fraude, considerar a análise de movimentações bancárias para verificar a compatibilidade com a receita declarada.\n>     *   **Informações de Cartões de Crédito/Débito:** Cruzar dados de operadoras de cartão com as declarações fiscais para identificar possíveis omissões de receita.\n>     *   **Cadastros Municipais:** Verificar a consistência das informações cadastrais das empresas junto à prefeitura (endereço, atividade, etc.).\n> \n> #### 3. **Pontos de Atenção para os Contribuintes**\n> \n> 1.  **Limites de Faturamento:**\n>     *   **MEI:** Faturamento anual de até R$ 81 mil.\n>     *   **Simples Nacional:** Faturamento anual de até R$ 4,8 milhões.\n>     *   **Sublimite Estadual:** Observar o sublimite de R$ 3,6 milhões para recolhimento de ICMS e ISS em alguns estados.\n> 2.  **Definição de Receita Bruta:**\n>     *   Estar atento à definição ampliada de Receita Bruta, que inclui \"demais receitas da atividade ou objeto principal\" da empresa.\n> 3.  **Simples Nacional Híbrido:**\n>     *   Avaliar a possibilidade de optar pelo recolhimento do IBS e CBS separadamente, considerando os impactos na carga tributária e a apropriação de créditos.\n> 4.  **Regularização Fiscal:**\n>     *   Manter a situação fiscal regularizada para evitar a exclusão do Simples Nacional.\n>     *   Utilizar o Domicílio Tributário Eletrônico (DT-e) para facilitar a comunicação com a Receita Federal.\n> 5.  **Planejamento Tributário:**\n>     *   Realizar um planejamento tributário detalhado, considerando os impactos da reforma tributária e as opções de tributação disponíveis.\n> 6.  **Acompanhamento da Legislação:**\n>     *   Manter-se informado sobre as atualizações da legislação tributária e as regulamentações da reforma tributária.\n> \n> #### 4. **Plano de Postagens (Redes Sociais e Site da Prefeitura)**\n> \n> *   **Objetivo:** Informar e alertar os contribuintes sobre as ações de fiscalização e os pontos de atenção para conformidade tributária.\n> *   **Conteúdo:**\n>     1.  **Informativos:**\n>         *   **Títulos:** \"Atenção, Empresas do Simples Nacional de Monte Santo de Minas!\", \"Fique em Dia com o Fisco Municipal!\"\n>         *   **Conteúdo:** Explicação sobre os limites de faturamento, a importância da correta declaração de receitas e os riscos da sonegação fiscal.\n>     2.  **Educacionais:**\n>         *   **Títulos:** \"Como Declarar Corretamente Suas Receitas no Simples Nacional\", \"Entenda o Cruzamento de Dados das NF-e com o PGDAS\"\n>         *   **Conteúdo:** Tutoriais e guias sobre como preencher corretamente as declarações, como emitir NF-e e como evitar erros comuns.\n>     3.  **Alertas de Fiscalização:**\n>         *   **Títulos:** \"Fiscalização em Foco: Ações de Monitoramento do Simples Nacional em Monte Santo de Minas\", \"Malha Fina Municipal: Evite Surpresas!\"\n>         *   **Conteúdo:** Informar sobre as ações de fiscalização em andamento, os critérios utilizados para seleção de empresas e os procedimentos para regularização em caso de notificação.\n>     4.  **Resultados da Fiscalização:**\n>         *   **Títulos:** \"Prefeitura de Monte Santo de Minas Intensifica a Fiscalização e Identifica Irregularidades no Simples Nacional\", \"Empresas Autuadas por Sonegação Fiscal: Veja o Que Aconteceu\"\n>         *   **Conteúdo:** Divulgar os resultados das ações de fiscalização, informando o número de empresas fiscalizadas, o valor dos impostos recuperados e as penalidades aplicadas.\n>     5.  **Dicas e Boas Práticas:**\n>         *   **Títulos:** \"Dicas Para Manter Sua Empresa Regular no Simples Nacional\", \"Boas Práticas de Gestão Fiscal Para MEIs\"\n>         *   **Conteúdo:** Recomendações sobre como organizar a documentação fiscal, como realizar o planejamento tributário e como evitar problemas com o fisco.\n> *   **Formato:**\n>     *   Posts em redes sociais (Facebook, Instagram) com linguagem acessível e visualmente atraente.\n>     *   Artigos no site da prefeitura com informações detalhadas e links para a legislação pertinente.\n>     *   Vídeos explicativos com entrevistas de especialistas e representantes da prefeitura.\n> *   **Frequência:**\n>     *   Publicações semanais ou quinzenais, com temas variados e relevantes para os contribuintes.\n> *   **Público-Alvo:**\n>     *   Empresários optantes pelo Simples Nacional, MEIs, contadores, escritórios de contabilidade e demais interessados em questões tributárias municipais.\n> \n> #### 5. **Implementação e Acompanhamento**\n> \n> *   **Treinamento:** Capacitar os fiscais tributários para a utilização de ferramentas de análise de dados e para a interpretação da legislação tributária.\n> *   **Software de Gestão:** Implementar ou otimizar o uso de softwares de gestão tributária que permitam o cruzamento de dados e a identificação de inconsistências de forma automatizada.\n> *   **Comunicação:** Manter uma comunicação transparente e eficiente com os contribuintes, oferecendo canais de atendimento para esclarecimento de dúvidas e regularização de pendências.\n> *   **Avaliação:** Monitorar os resultados das ações de fiscalização, avaliando o aumento da arrecadação, a redução da sonegação fiscal e o nível de satisfação dos contribuintes.\n> *   **Comitê Gestor:** Criar um comitê gestor com representantes da prefeitura, dos contadores e dos empresários para discutir e propor melhorias no sistema tributário municipal.\n> \n> Este plano detalhado, quando implementado de forma eficaz, permitirá ao fiscal tributário municipal otimizar a fiscalização das empresas do Simples Nacional em Monte Santo de Minas, garantindo a conformidade tributária, aumentando a arrecadação e promovendo um ambiente de negócios mais justo e transparente.\n> \n"
          },
          "metadata": {}
        },
        {
          "output_type": "stream",
          "name": "stdout",
          "text": [
            "--------------------------------------------------------------\n",
            "\n",
            "--- 📝 Resultado do Agente 3 (Redator) ---\n",
            "\n"
          ]
        },
        {
          "output_type": "display_data",
          "data": {
            "text/plain": [
              "<IPython.core.display.Markdown object>"
            ],
            "text/markdown": "> 🚨 Atenção, empreendedores de Monte Santo de Minas! 🚨\n> \n> Fiquem ligados nos limites de faturamento do Simples Nacional para não terem surpresas! 🧐\n> \n> 💰 MEI: limite de R$ 81 mil por ano.\n> 🏢 Simples Nacional: até R$ 4,8 milhões anuais.\n> \n> 👉 Ultrapassou? Regularize-se para evitar problemas com o fisco! 😉\n> \n> Mantenha sua empresa em dia e aproveite os benefícios do Simples Nacional! 👍\n> \n> #SimplesNacional #FiscalizaçãoMunicipal #MonteSantoDeMinas #Empreendedorismo\n"
          },
          "metadata": {}
        },
        {
          "output_type": "stream",
          "name": "stdout",
          "text": [
            "--------------------------------------------------------------\n",
            "\n",
            "--- 📝 Resultado do Agente 4 (Revisor) ---\n",
            "\n"
          ]
        },
        {
          "output_type": "display_data",
          "data": {
            "text/plain": [
              "<IPython.core.display.Markdown object>"
            ],
            "text/markdown": "> O rascunho está bom, mas podemos otimizar para torná-lo ainda mais atraente e informativo para o público-alvo. Aqui estão algumas sugestões:\n> \n> **Problemas e Sugestões:**\n> \n> *   **Clareza e Concisão:** O texto está bom, mas podemos adicionar um pouco mais de impacto e direcionamento.\n> *   **Chamada para Ação:** Poderíamos ser mais específicos sobre o que os empreendedores devem fazer.\n> *   **Hashtags:** Podemos adicionar hashtags mais direcionadas e relevantes.\n> \n> **Rascunho Revisado Sugerido:**\n> \n> 🚨 Alerta importante para MEIs e empresas em Monte Santo de Minas! 🚨\n> \n> Você sabe quais são os limites de faturamento do Simples Nacional em 2024? 🤔 Não deixe que seu negócio seja pego de surpresa!\n> \n> 💰 MEI: Faturamento anual de até R$ 81 mil.\n> 🏢 Simples Nacional: Receita bruta anual até R$ 4,8 milhões.\n> \n> ⚠️ Ultrapassou o limite? É crucial regularizar a situação para evitar multas e complicações com a Receita Federal.\n> \n> Precisa de ajuda para entender ou regularizar sua situação fiscal? Entre em contato conosco e garanta a saúde financeira da sua empresa! 😉\n> \n> 👉 [Link para contato/WhatsApp]\n> \n> #SimplesNacional #MEI #Contabilidade #Fiscalização #MonteSantoDeMinas #EmpreendedorismoLocal #RegularizeSuaEmpresa\n> \n"
          },
          "metadata": {}
        },
        {
          "output_type": "stream",
          "name": "stdout",
          "text": [
            "--------------------------------------------------------------\n"
          ]
        }
      ]
    }
  ]
}